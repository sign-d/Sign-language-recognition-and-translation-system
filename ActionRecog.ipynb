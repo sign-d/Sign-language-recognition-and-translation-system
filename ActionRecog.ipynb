{
 "cells": [
  {
   "cell_type": "code",
   "execution_count": 1,
   "id": "4bbe1185-a210-44a6-a735-2e72cb2e3ed3",
   "metadata": {},
   "outputs": [
    {
     "name": "stdout",
     "output_type": "stream",
     "text": [
      "opencv-env\n"
     ]
    }
   ],
   "source": [
    "import os\n",
    "print(os.environ['CONDA_DEFAULT_ENV'])\n",
    "#.\\venv_mediapipe_protobuf\\Scripts\\activate    to activate virtual env "
   ]
  },
  {
   "cell_type": "code",
   "execution_count": 2,
   "id": "952c15c2-6632-4e1f-8a98-154eaa1c6d01",
   "metadata": {},
   "outputs": [],
   "source": [
    "#pip install numpy~=1.26.4 scikit-learn~=1.5.0 tensorflow~=2.16.1 opencv-python~=4.10.0.82 mediapipe~=0.10.14 pandas~=2.2.2 pytube~=15.0.0"
   ]
  },
  {
   "cell_type": "code",
   "execution_count": 3,
   "id": "aed87889-ef12-4531-8903-b39bcdccc363",
   "metadata": {},
   "outputs": [],
   "source": [
    "#!pip install pytube\n"
   ]
  },
  {
   "cell_type": "code",
   "execution_count": 1,
   "id": "f535c7c4-59c9-4889-ae68-b196f94eea5e",
   "metadata": {},
   "outputs": [],
   "source": [
    "#  from google.protobuf import symbol_database\n",
    "#  from google.protobuf import message_factory\n",
    "\n",
    "#  class PatchedSymbolDatabase(symbol_database.SymbolDatabase):\n",
    "#      def GetPrototype(self, descriptor):\n",
    "# #         return message_factory.GetMessageClass(descriptor)\n",
    "\n",
    "# # # Replace the default SymbolDatabase instance with the patched one\n",
    "# # symbol_database._DEFAULT = PatchedSymbolDatabase(pool=symbol_database._DEFAULT.pool)\n"
   ]
  },
  {
   "cell_type": "code",
   "execution_count": 1,
   "id": "49ae3a2a",
   "metadata": {},
   "outputs": [],
   "source": [
    "import cv2\n",
    "import numpy as np\n",
    "import os\n",
    "import matplotlib.pyplot as plt\n",
    "import mediapipe as mp\n",
    "import time\n",
    "from pytube import YouTube\n"
   ]
  },
  {
   "cell_type": "code",
   "execution_count": 2,
   "id": "57701a12",
   "metadata": {},
   "outputs": [],
   "source": [
    "# Extracting feature keypoints using MediaPipe holistic model\n",
    "mp_holistic = mp.solutions.holistic  # Holistic model\n",
    "mp_drawing_styles = mp.solutions.drawing_styles\n",
    "mp_drawing = mp.solutions.drawing_utils  # Drawing utilities\n"
   ]
  },
  {
   "cell_type": "code",
   "execution_count": 3,
   "id": "f442bdb2",
   "metadata": {},
   "outputs": [],
   "source": [
    "def mediapipe_detection(image, model):\n",
    "    image = cv2.cvtColor(image, cv2.COLOR_BGR2RGB)  # Convert image from BGR to RGB\n",
    "    image.flags.writeable = False  # Set the 'writable' flag to False to improve performance\n",
    "    results = model.process(image)  # Make predictions\n",
    "    image.flags.writeable = True  # Set the 'writable' flag back to True\n",
    "    image = cv2.cvtColor(image, cv2.COLOR_RGB2BGR)  # Convert image back to BGR\n",
    "    return image, results\n",
    "\n"
   ]
  },
  {
   "cell_type": "code",
   "execution_count": 4,
   "id": "da15e316-29f8-423f-8377-41631a3e5fa5",
   "metadata": {},
   "outputs": [],
   "source": [
    "def get_youtube_stream_url(video_url):\n",
    "    yt = YouTube(video_url)\n",
    "    stream = yt.streams.filter(progressive=True, file_extension='mp4').first()\n",
    "    return stream.url\n"
   ]
  },
  {
   "cell_type": "code",
   "execution_count": 5,
   "id": "74f9aa07-8272-439d-b423-4e5a3bd819c9",
   "metadata": {},
   "outputs": [],
   "source": [
    "def draw_styled_landmarks(image, results):\n",
    "    # Define drawing specs for each landmark type\n",
    "    face_spec = mp_drawing.DrawingSpec(color=(255, 0, 0), thickness=1, circle_radius=1)  # red, thickness 1, circle radius 1\n",
    "    pose_spec = mp_drawing.DrawingSpec(color=(0, 255, 0), thickness=2, circle_radius=2)  # green, thickness 2, circle radius 2\n",
    "    hand_spec = mp_drawing.DrawingSpec(color=(0, 0, 255), thickness=2, circle_radius=2)  # blue, thickness 2, circle radius 2\n",
    "\n",
    "    # Draw styled landmarks\n",
    "    if results.face_landmarks:\n",
    "        mp_drawing.draw_landmarks(image, results.face_landmarks, mp_holistic.FACEMESH_CONTOURS, face_spec)\n",
    "         # mp.solutions.drawing_utils.draw_landmarks(\n",
    "    #     image, results.face_landmarks, mp.solutions.holistic.FACEMESH_CONTOURS,\n",
    "    #      face_spec)\n",
    "    if results.pose_landmarks:\n",
    "        mp_drawing.draw_landmarks(image, results.pose_landmarks, mp_holistic.POSE_CONNECTIONS, pose_spec)\n",
    "        # mp.solutions.drawing_utils.draw_landmarks(\n",
    "    #     image, results.pose_landmarks, mp.solutions.holistic.POSE_CONNECTIONS,\n",
    "    #      pose_spec)\n",
    "    if results.left_hand_landmarks:\n",
    "        mp_drawing.draw_landmarks(image, results.left_hand_landmarks, mp_holistic.HAND_CONNECTIONS, hand_spec)\n",
    "    if results.right_hand_landmarks:\n",
    "        mp_drawing.draw_landmarks(image, results.right_hand_landmarks, mp_holistic.HAND_CONNECTIONS, hand_spec)\n",
    "\n",
    "  \n",
    "    # # Draw face connections\n",
    "   \n",
    "    # # Draw pose connections\n",
    "    \n",
    "\n",
    "   "
   ]
  },
  {
   "cell_type": "code",
   "execution_count": 6,
   "id": "be6388ac-2813-43a3-adc0-775eca7ab84b",
   "metadata": {},
   "outputs": [],
   "source": [
    "def capture_frames(folder_name, frame, count):\n",
    "    if not os.path.exists(folder_name):\n",
    "        os.makedirs(folder_name)\n",
    "    frame_path = os.path.join(folder_name, f\"frame_{count}.JPEG\")\n",
    "    cv2.imwrite(frame_path, frame)\n",
    "    print(f\"Captured {frame_path}\")\n"
   ]
  },
  {
   "cell_type": "code",
   "execution_count": 7,
   "id": "0089bc2c-d62a-4cff-a800-4887a775e278",
   "metadata": {},
   "outputs": [],
   "source": [
    "def primary_data_capture():\n",
    "    holistic = mp_holistic.Holistic(min_detection_confidence=0.5, min_tracking_confidence=0.5, enable_segmentation=True)\n",
    "    cap = cv2.VideoCapture(0)\n",
    "    window_name = \"Holistic Model Detection\"\n",
    "    cv2.namedWindow(window_name, cv2.WINDOW_NORMAL)\n",
    "\n",
    "    folder_name = input(\"Enter the main folder name (e.g., 'data_collection'): \")\n",
    "    class_subfolder_name = input(\"Enter the class subfolder name (e.g., 'Alphabets'): \")\n",
    "    frame_subfolder_name = input(\"Enter the frame subfolder name (e.g., 'A'): \")\n",
    "\n",
    "    full_path = os.path.join(folder_name, class_subfolder_name, frame_subfolder_name)\n",
    "\n",
    "    if not os.path.exists(full_path):\n",
    "        os.makedirs(full_path)\n",
    "\n",
    "    existing_files = [f for f in os.listdir(full_path) if os.path.isfile(os.path.join(full_path, f))]\n",
    "    if existing_files:\n",
    "        existing_files.sort(key=lambda f: int(f.split('_')[1].split('.')[0]))\n",
    "        last_frame_num = int(existing_files[-1].split('_')[1].split('.')[0])\n",
    "    else:\n",
    "        last_frame_num = 0\n",
    "\n",
    "   \n",
    "    frame_count = last_frame_num + 1\n",
    "    paused = False\n",
    "    rewind = False\n",
    "    forward = False\n",
    "\n",
    "    while cap.isOpened():\n",
    "        if not paused:\n",
    "            if rewind:\n",
    "                current_frame = max(0, cap.get(cv2.CAP_PROP_POS_FRAMES) - 20)\n",
    "                cap.set(cv2.CAP_PROP_POS_FRAMES, current_frame)\n",
    "                rewind = False  # Reset rewind after applying it\n",
    "            elif forward:\n",
    "                current_frame = cap.get(cv2.CAP_PROP_POS_FRAMES) + 60\n",
    "                cap.set(cv2.CAP_PROP_POS_FRAMES, current_frame)\n",
    "                forward = False  # Reset forward after applying it\n",
    "            \n",
    "            ret, frame = cap.read()\n",
    "            if not ret:\n",
    "                break\n",
    "\n",
    "            image, results = mediapipe_detection(frame, holistic)\n",
    "            draw_styled_landmarks(image, results)\n",
    "\n",
    "            cv2.imshow(\"Holistic Model Detection\", image)\n",
    "\n",
    "            if results.segmentation_mask is not None:\n",
    "                segmentation_mask_frame = cv2.cvtColor(results.segmentation_mask, cv2.COLOR_GRAY2BGR)\n",
    "                cv2.imshow(\"Segmentation Mask\", segmentation_mask_frame)\n",
    "\n",
    "        key = cv2.waitKey(1) & 0xFF\n",
    "        if key == ord('c'):\n",
    "            capture_frames(full_path, frame, frame_count)\n",
    "            frame_count += 1\n",
    "        elif key == ord(' '):  # Space key to pause/play\n",
    "            paused = not paused\n",
    "        elif key == ord('r'):\n",
    "            rewind = True\n",
    "        elif key == ord('f'):\n",
    "            forward = True\n",
    "        elif key == ord('q') or key == 27:  # 'q' or Escape key to quit\n",
    "            break\n",
    "\n",
    "    cap.release()\n",
    "    cv2.destroyAllWindows()\n"
   ]
  },
  {
   "cell_type": "code",
   "execution_count": 8,
   "id": "19ea2b41-4f78-4373-a77e-2666076c8a0e",
   "metadata": {},
   "outputs": [],
   "source": [
    "def secondary_data_capture(video_url):\n",
    "    stream_url = get_youtube_stream_url(video_url)\n",
    "    cap = cv2.VideoCapture(stream_url)\n",
    "    holistic = mp_holistic.Holistic(min_detection_confidence=0.5, min_tracking_confidence=0.5, enable_segmentation=True)\n",
    "\n",
    "    folder_name = input(\"Enter the main folder name (e.g., 'data_collection'): \")\n",
    "    class_subfolder_name = input(\"Enter the class subfolder name (e.g., 'Alphabets'): \")\n",
    "    frame_subfolder_name = input(\"Enter the frame subfolder name (e.g., 'A'): \")\n",
    "\n",
    "    full_path = os.path.join(folder_name, class_subfolder_name, frame_subfolder_name)\n",
    "\n",
    "    if not os.path.exists(full_path):\n",
    "        os.makedirs(full_path)\n",
    "\n",
    "    existing_files = [f for f in os.listdir(full_path) if os.path.isfile(os.path.join(full_path, f))]\n",
    "    if existing_files:\n",
    "        existing_files.sort(key=lambda f: int(f.split('_')[1].split('.')[0]))\n",
    "        last_frame_num = int(existing_files[-1].split('_')[1].split('.')[0])\n",
    "    else:\n",
    "        last_frame_num = 0\n",
    "\n",
    "    frame_count = last_frame_num + 1\n",
    "    paused = False\n",
    "    rewind = False\n",
    "    forward = False\n",
    "\n",
    "    while cap.isOpened():\n",
    "        if not paused:\n",
    "            if rewind:\n",
    "                current_frame = max(0, cap.get(cv2.CAP_PROP_POS_FRAMES) - 20)\n",
    "                cap.set(cv2.CAP_PROP_POS_FRAMES, current_frame)\n",
    "                rewind = False  # Reset rewind after applying it\n",
    "            elif forward:\n",
    "                current_frame = cap.get(cv2.CAP_PROP_POS_FRAMES) + 120\n",
    "                cap.set(cv2.CAP_PROP_POS_FRAMES, current_frame)\n",
    "                forward = False  # Reset forward after applying it\n",
    "            \n",
    "            ret, frame = cap.read()\n",
    "            if not ret:\n",
    "                break\n",
    "\n",
    "            image, results = mediapipe_detection(frame, holistic)\n",
    "            draw_styled_landmarks(image, results)\n",
    "\n",
    "            cv2.imshow(\"Holistic Model Detection\", image)\n",
    "\n",
    "            if results.segmentation_mask is not None:\n",
    "                segmentation_mask_frame = cv2.cvtColor(results.segmentation_mask, cv2.COLOR_GRAY2BGR)\n",
    "                cv2.imshow(\"Segmentation Mask\", segmentation_mask_frame)\n",
    "\n",
    "        key = cv2.waitKey(1) & 0xFF\n",
    "        if key == ord('c'):\n",
    "            capture_frames(full_path, frame, frame_count)\n",
    "            frame_count += 1\n",
    "        elif key == ord(' '):  # Space key to pause/play\n",
    "            paused = not paused\n",
    "        elif key == ord('r'):\n",
    "            rewind = True\n",
    "        elif key == ord('f'):\n",
    "            forward = True\n",
    "        elif key == ord('q') or key == 27:  # 'q' or Escape key to quit\n",
    "            break\n",
    "\n",
    "    cap.release()\n",
    "    cv2.destroyAllWindows()\n"
   ]
  },
  {
   "cell_type": "code",
   "execution_count": 15,
   "id": "87ba3064-9fac-4b7d-b6db-cdb185a71ed4",
   "metadata": {},
   "outputs": [
    {
     "name": "stdout",
     "output_type": "stream",
     "text": [
      "Choose data capture method:\n",
      "Press 'p' for Primary Data Capture (camera)\n",
      "Press 's' for Secondary Data Capture (YouTube video)\n"
     ]
    },
    {
     "name": "stdin",
     "output_type": "stream",
     "text": [
      "Enter YouTube video URL:  https://youtu.be/tKY-1NkAS0o?si=StpxYP_LDrws2AQ-\n",
      "Enter the main folder name (e.g., 'data_collection'):  data collection\n",
      "Enter the class subfolder name (e.g., 'Alphabets'):  alphabets\n",
      "Enter the frame subfolder name (e.g., 'A'):  G\n"
     ]
    },
    {
     "name": "stdout",
     "output_type": "stream",
     "text": [
      "Captured data collection\\alphabets\\G\\frame_16.JPEG\n",
      "Captured data collection\\alphabets\\G\\frame_17.JPEG\n",
      "Captured data collection\\alphabets\\G\\frame_18.JPEG\n",
      "Captured data collection\\alphabets\\G\\frame_19.JPEG\n",
      "Captured data collection\\alphabets\\G\\frame_20.JPEG\n",
      "Captured data collection\\alphabets\\G\\frame_21.JPEG\n",
      "Captured data collection\\alphabets\\G\\frame_22.JPEG\n",
      "Captured data collection\\alphabets\\G\\frame_23.JPEG\n",
      "Captured data collection\\alphabets\\G\\frame_24.JPEG\n",
      "Captured data collection\\alphabets\\G\\frame_25.JPEG\n",
      "Captured data collection\\alphabets\\G\\frame_26.JPEG\n",
      "Captured data collection\\alphabets\\G\\frame_27.JPEG\n",
      "Captured data collection\\alphabets\\G\\frame_28.JPEG\n",
      "Captured data collection\\alphabets\\G\\frame_29.JPEG\n",
      "Captured data collection\\alphabets\\G\\frame_30.JPEG\n"
     ]
    }
   ],
   "source": [
    "def main():\n",
    "    print(\"Choose data capture method:\")\n",
    "    print(\"Press 'p' for Primary Data Capture (camera)\")\n",
    "    print(\"Press 's' for Secondary Data Capture (YouTube video)\")\n",
    "\n",
    "    cv2.namedWindow(\"Choose Data Capture Method\", cv2.WINDOW_NORMAL)\n",
    "    cv2.imshow(\"Choose Data Capture Method\", np.zeros((100, 200, 3), dtype=np.uint8))\n",
    "\n",
    "    while True:\n",
    "        key = cv2.waitKey(1) & 0xFF\n",
    "        if key == ord('p'):\n",
    "            primary_data_capture()\n",
    "            break\n",
    "        elif key == ord('s'):\n",
    "            video_url = input(\"Enter YouTube video URL: \")\n",
    "            secondary_data_capture(video_url)\n",
    "            break\n",
    "\n",
    "    cv2.destroyAllWindows()\n",
    "\n",
    "\n",
    "if __name__ == \"__main__\":\n",
    "    main()"
   ]
  },
  {
   "cell_type": "code",
   "execution_count": null,
   "id": "4397a94e-781b-4439-a817-5e531176e477",
   "metadata": {},
   "outputs": [],
   "source": []
  },
  {
   "cell_type": "code",
   "execution_count": null,
   "id": "2ef6d913-1483-49db-835e-0195f9084ffd",
   "metadata": {},
   "outputs": [],
   "source": []
  }
 ],
 "metadata": {
  "kernelspec": {
   "display_name": "Python 3 (ipykernel)",
   "language": "python",
   "name": "python3"
  },
  "language_info": {
   "codemirror_mode": {
    "name": "ipython",
    "version": 3
   },
   "file_extension": ".py",
   "mimetype": "text/x-python",
   "name": "python",
   "nbconvert_exporter": "python",
   "pygments_lexer": "ipython3",
   "version": "3.12.3"
  }
 },
 "nbformat": 4,
 "nbformat_minor": 5
}
