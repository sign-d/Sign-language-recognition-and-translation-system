{
 "cells": [
  {
   "cell_type": "code",
   "execution_count": 1,
   "id": "4bbe1185-a210-44a6-a735-2e72cb2e3ed3",
   "metadata": {},
   "outputs": [
    {
     "name": "stdout",
     "output_type": "stream",
     "text": [
      "opencv-env\n"
     ]
    }
   ],
   "source": [
    "import os\n",
    "print(os.environ['CONDA_DEFAULT_ENV'])\n",
    "#.\\venv_mediapipe_protobuf\\Scripts\\activate    to activate virtual env "
   ]
  },
  {
   "cell_type": "code",
   "execution_count": 2,
   "id": "952c15c2-6632-4e1f-8a98-154eaa1c6d01",
   "metadata": {},
   "outputs": [],
   "source": [
    "#pip install numpy~=1.26.4 scikit-learn~=1.5.0 tensorflow~=2.16.1 opencv-python~=4.10.0.82 mediapipe~=0.10.14 pandas~=2.2.2 pytube~=15.0.0"
   ]
  },
  {
   "cell_type": "code",
   "execution_count": 3,
   "id": "aed87889-ef12-4531-8903-b39bcdccc363",
   "metadata": {},
   "outputs": [],
   "source": [
    "#!pip install pytube\n"
   ]
  },
  {
   "cell_type": "code",
   "execution_count": 4,
   "id": "49ae3a2a",
   "metadata": {},
   "outputs": [],
   "source": [
    "import cv2\n",
    "import numpy as np\n",
    "import os\n",
    "import matplotlib.pyplot as plt\n",
    "import mediapipe as mp\n",
    "import time\n",
    "from pytube import YouTube\n",
    "\n"
   ]
  },
  {
   "cell_type": "code",
   "execution_count": 5,
   "id": "57701a12",
   "metadata": {},
   "outputs": [],
   "source": [
    "# Extracting feature keypoints using MediaPipe holistic model\n",
    "mp_holistic = mp.solutions.holistic  # Holistic model\n",
    "mp_drawing_styles = mp.solutions.drawing_styles\n",
    "mp_drawing = mp.solutions.drawing_utils  # Drawing utilities\n"
   ]
  },
  {
   "cell_type": "code",
   "execution_count": 6,
   "id": "f442bdb2",
   "metadata": {},
   "outputs": [],
   "source": [
    "def mediapipe_detection(image, model):\n",
    "    image = cv2.cvtColor(image, cv2.COLOR_BGR2RGB)  # Convert image from BGR to RGB\n",
    "    image.flags.writeable = False  # Set the 'writable' flag to False to improve performance\n",
    "    results = model.process(image)  # Make predictions\n",
    "    image.flags.writeable = True  # Set the 'writable' flag back to True\n",
    "    image = cv2.cvtColor(image, cv2.COLOR_RGB2BGR)  # Convert image back to BGR\n",
    "    return image, results\n",
    "\n"
   ]
  },
  {
   "cell_type": "code",
   "execution_count": 17,
   "id": "74f9aa07-8272-439d-b423-4e5a3bd819c9",
   "metadata": {},
   "outputs": [],
   "source": [
    "def draw_styled_landmarks(image, results):\n",
    "    # Define drawing specs for each landmark type\n",
    "    face_spec = mp_drawing.DrawingSpec(color=(255, 0, 0), thickness=1, circle_radius=1)  # red, thickness 1, circle radius 1\n",
    "    pose_spec = mp_drawing.DrawingSpec(color=(0, 255, 0), thickness=2, circle_radius=2)  # green, thickness 2, circle radius 2\n",
    "    hand_spec = mp_drawing.DrawingSpec(color=(0, 0, 255), thickness=2, circle_radius=2)  # blue, thickness 2, circle radius 2\n",
    "\n",
    "    # Draw styled landmarks\n",
    "    if results.face_landmarks:\n",
    "        mp_drawing.draw_landmarks(image, results.face_landmarks, mp_holistic.FACEMESH_CONTOURS, face_spec)\n",
    "    if results.pose_landmarks:\n",
    "        mp_drawing.draw_landmarks(image, results.pose_landmarks, mp_holistic.POSE_CONNECTIONS, pose_spec)\n",
    "    if results.left_hand_landmarks:\n",
    "        mp_drawing.draw_landmarks(image, results.left_hand_landmarks, mp_holistic.HAND_CONNECTIONS, hand_spec)\n",
    "    if results.right_hand_landmarks:\n",
    "        mp_drawing.draw_landmarks(image, results.right_hand_landmarks, mp_holistic.HAND_CONNECTIONS, hand_spec)\n",
    "\n",
    "    \n",
    "\n",
    "   "
   ]
  },
  {
   "cell_type": "code",
   "execution_count": 18,
   "id": "be6388ac-2813-43a3-adc0-775eca7ab84b",
   "metadata": {},
   "outputs": [],
   "source": [
    "def capture_frames(folder_name, frame, count):\n",
    "    # Create folder if it doesn't exist\n",
    "    if not os.path.exists(folder_name):\n",
    "        os.makedirs(folder_name)\n",
    "    # Save the captured frame\n",
    "    frame_path = os.path.join(folder_name, f\"frame_{count}.png\")\n",
    "    cv2.imwrite(frame_path, frame)\n",
    "    print(f\"Captured {frame_path}\")"
   ]
  },
  {
   "cell_type": "code",
   "execution_count": 19,
   "id": "0089bc2c-d62a-4cff-a800-4887a775e278",
   "metadata": {},
   "outputs": [],
   "source": [
    "def primary_data_capture():\n",
    "    holistic = mp_holistic.Holistic(min_detection_confidence=0.5, min_tracking_confidence=0.5, enable_segmentation=True)\n",
    "    cap = cv2.VideoCapture(0)\n",
    "    window_name = \"Holistic Model Detection\"\n",
    "    cv2.namedWindow(window_name, cv2.WINDOW_NORMAL)\n",
    "\n",
    "    folder_name = input(\"Enter the name of the folder to save the frames: \")\n",
    "    subfolder_name = input(\"Enter the name of the subfolder (e.g., an alphabet): \")\n",
    "    full_path = os.path.join(folder_name, subfolder_name)\n",
    "\n",
    "    frame_count = 0\n",
    "\n",
    "    while cap.isOpened():\n",
    "        ret, frame = cap.read()\n",
    "        if not ret:\n",
    "            break\n",
    "\n",
    "        image = cv2.cvtColor(frame, cv2.COLOR_BGR2RGB)\n",
    "        results = holistic.process(image)\n",
    "\n",
    "        # Draw styled landmarks\n",
    "        draw_styled_landmarks(frame, results)\n",
    "\n",
    "        # Display the frame\n",
    "        cv2.imshow(window_name, frame)\n",
    "\n",
    "        # Display the segmentation mask\n",
    "        if results.segmentation_mask is not None and results.segmentation_mask.shape[0] > 0 and results.segmentation_mask.shape[1] > 0:\n",
    "            segmentation_mask_frame = cv2.flip(results.segmentation_mask, 1)\n",
    "            cv2.imshow(\"Segmentation Mask\", segmentation_mask_frame)\n",
    "        \n",
    "\n",
    "        key = cv2.waitKey(1) & 0xFF\n",
    "        if key == ord('c'):\n",
    "            frame_count += 1\n",
    "            capture_frames(full_path, frame, frame_count)\n",
    "        elif key == ord('q'):\n",
    "            break\n",
    "\n",
    "    cap.release()\n",
    "    cv2.destroyAllWindows()"
   ]
  },
  {
   "cell_type": "code",
   "execution_count": 20,
   "id": "19ea2b41-4f78-4373-a77e-2666076c8a0e",
   "metadata": {},
   "outputs": [],
   "source": [
    "def secondary_data_capture(video_path):\n",
    "    holistic = mp_holistic.Holistic(min_detection_confidence=0.5, min_tracking_confidence=0.5, enable_segmentation=True)\n",
    "    cap = cv2.VideoCapture(video_path)\n",
    "    \n",
    "    window_name = \"Holistic Model Detection \"\n",
    "    cv2.namedWindow(window_name, cv2.WINDOW_NORMAL)\n",
    "\n",
    "    folder_name = input(\"Enter the name of the folder to save the frames: \")\n",
    "    subfolder_name = input(\"Enter the name of the subfolder (e.g., an alphabet): \")\n",
    "    full_path = os.path.join(folder_name, subfolder_name)\n",
    "\n",
    "    frame_count = 0\n",
    "\n",
    "    while cap.isOpened():\n",
    "        ret, frame = cap.read()\n",
    "        if not ret:\n",
    "            break\n",
    "\n",
    "        image = cv2.cvtColor(frame, cv2.COLOR_BGR2RGB)\n",
    "        results = holistic.process(image)\n",
    "\n",
    "        # Draw styled landmarks\n",
    "        draw_styled_landmarks(frame, results)\n",
    "\n",
    "        # Display the frame\n",
    "        cv2.imshow(window_name, frame)\n",
    "\n",
    "        # Display the segmentation mask\n",
    "        if results.segmentation_mask is not None and results.segmentation_mask.shape[0] > 0 and results.segmentation_mask.shape[1] > 0:\n",
    "            segmentation_mask_frame = cv2.flip(results.segmentation_mask, 1)\n",
    "            cv2.imshow(\"Segmentation Mask\", segmentation_mask_frame)\n",
    "       \n",
    "        key = cv2.waitKey(1) & 0xFF\n",
    "        if key == ord('c'):\n",
    "            frame_count += 1\n",
    "            capture_frames(full_path, frame, frame_count)\n",
    "        elif key == ord('q'):\n",
    "            break\n",
    "\n",
    "    cap.release()\n",
    "    cv2.destroyAllWindows()"
   ]
  },
  {
   "cell_type": "code",
   "execution_count": 16,
   "id": "87ba3064-9fac-4b7d-b6db-cdb185a71ed4",
   "metadata": {},
   "outputs": [
    {
     "name": "stdout",
     "output_type": "stream",
     "text": [
      "Choose data capture method:\n",
      "Press 'p' for Primary Data Capture (camera)\n",
      "Press 's' for Secondary Data Capture (YouTube video)\n"
     ]
    },
    {
     "name": "stdin",
     "output_type": "stream",
     "text": [
      "Enter video path:  D:\\1School\\project\\ksl videos\\trimmed\\KSL 1 2023 Topic 1   Alphabets (2).mp4\n",
      "Enter the name of the folder to save the frames:  Alphabets\n",
      "Enter the name of the subfolder (e.g., an alphabet):  Aa\n"
     ]
    },
    {
     "ename": "AttributeError",
     "evalue": "'SymbolDatabase' object has no attribute 'GetPrototype'",
     "output_type": "error",
     "traceback": [
      "\u001b[1;31m---------------------------------------------------------------------------\u001b[0m",
      "\u001b[1;31mAttributeError\u001b[0m                            Traceback (most recent call last)",
      "Cell \u001b[1;32mIn[16], line 22\u001b[0m\n\u001b[0;32m     19\u001b[0m     cv2\u001b[38;5;241m.\u001b[39mdestroyAllWindows()\n\u001b[0;32m     21\u001b[0m \u001b[38;5;28;01mif\u001b[39;00m \u001b[38;5;18m__name__\u001b[39m \u001b[38;5;241m==\u001b[39m \u001b[38;5;124m\"\u001b[39m\u001b[38;5;124m__main__\u001b[39m\u001b[38;5;124m\"\u001b[39m:\n\u001b[1;32m---> 22\u001b[0m     main()\n",
      "Cell \u001b[1;32mIn[16], line 16\u001b[0m, in \u001b[0;36mmain\u001b[1;34m()\u001b[0m\n\u001b[0;32m     14\u001b[0m     \u001b[38;5;28;01melif\u001b[39;00m key \u001b[38;5;241m==\u001b[39m \u001b[38;5;28mord\u001b[39m(\u001b[38;5;124m'\u001b[39m\u001b[38;5;124ms\u001b[39m\u001b[38;5;124m'\u001b[39m):\n\u001b[0;32m     15\u001b[0m         video_path \u001b[38;5;241m=\u001b[39m \u001b[38;5;28minput\u001b[39m(\u001b[38;5;124m\"\u001b[39m\u001b[38;5;124mEnter video path: \u001b[39m\u001b[38;5;124m\"\u001b[39m)\n\u001b[1;32m---> 16\u001b[0m         secondary_data_capture(video_path)\n\u001b[0;32m     17\u001b[0m         \u001b[38;5;28;01mbreak\u001b[39;00m\n\u001b[0;32m     19\u001b[0m cv2\u001b[38;5;241m.\u001b[39mdestroyAllWindows()\n",
      "Cell \u001b[1;32mIn[15], line 20\u001b[0m, in \u001b[0;36msecondary_data_capture\u001b[1;34m(video_path)\u001b[0m\n\u001b[0;32m     17\u001b[0m     \u001b[38;5;28;01mbreak\u001b[39;00m\n\u001b[0;32m     19\u001b[0m image \u001b[38;5;241m=\u001b[39m cv2\u001b[38;5;241m.\u001b[39mcvtColor(frame, cv2\u001b[38;5;241m.\u001b[39mCOLOR_BGR2RGB)\n\u001b[1;32m---> 20\u001b[0m results \u001b[38;5;241m=\u001b[39m holistic\u001b[38;5;241m.\u001b[39mprocess(image)\n\u001b[0;32m     22\u001b[0m \u001b[38;5;66;03m# Draw styled landmarks\u001b[39;00m\n\u001b[0;32m     23\u001b[0m draw_styled_landmarks(frame, results)\n",
      "File \u001b[1;32m~\\anaconda3\\envs\\opencv-env\\Lib\\site-packages\\mediapipe\\python\\solutions\\holistic.py:160\u001b[0m, in \u001b[0;36mHolistic.process\u001b[1;34m(self, image)\u001b[0m\n\u001b[0;32m    136\u001b[0m \u001b[38;5;28;01mdef\u001b[39;00m \u001b[38;5;21mprocess\u001b[39m(\u001b[38;5;28mself\u001b[39m, image: np\u001b[38;5;241m.\u001b[39mndarray) \u001b[38;5;241m-\u001b[39m\u001b[38;5;241m>\u001b[39m NamedTuple:\n\u001b[0;32m    137\u001b[0m \u001b[38;5;250m  \u001b[39m\u001b[38;5;124;03m\"\"\"Processes an RGB image and returns the pose landmarks, left and right hand landmarks, and face landmarks on the most prominent person detected.\u001b[39;00m\n\u001b[0;32m    138\u001b[0m \n\u001b[0;32m    139\u001b[0m \u001b[38;5;124;03m  Args:\u001b[39;00m\n\u001b[1;32m   (...)\u001b[0m\n\u001b[0;32m    157\u001b[0m \u001b[38;5;124;03m         \"enable_segmentation\" is set to true.\u001b[39;00m\n\u001b[0;32m    158\u001b[0m \u001b[38;5;124;03m  \"\"\"\u001b[39;00m\n\u001b[1;32m--> 160\u001b[0m   results \u001b[38;5;241m=\u001b[39m \u001b[38;5;28msuper\u001b[39m()\u001b[38;5;241m.\u001b[39mprocess(input_data\u001b[38;5;241m=\u001b[39m{\u001b[38;5;124m'\u001b[39m\u001b[38;5;124mimage\u001b[39m\u001b[38;5;124m'\u001b[39m: image})\n\u001b[0;32m    161\u001b[0m   \u001b[38;5;28;01mif\u001b[39;00m results\u001b[38;5;241m.\u001b[39mpose_landmarks:  \u001b[38;5;66;03m# pytype: disable=attribute-error\u001b[39;00m\n\u001b[0;32m    162\u001b[0m     \u001b[38;5;28;01mfor\u001b[39;00m landmark \u001b[38;5;129;01min\u001b[39;00m results\u001b[38;5;241m.\u001b[39mpose_landmarks\u001b[38;5;241m.\u001b[39mlandmark:  \u001b[38;5;66;03m# pytype: disable=attribute-error\u001b[39;00m\n",
      "File \u001b[1;32m~\\anaconda3\\envs\\opencv-env\\Lib\\site-packages\\mediapipe\\python\\solution_base.py:351\u001b[0m, in \u001b[0;36mSolutionBase.process\u001b[1;34m(self, input_data)\u001b[0m\n\u001b[0;32m    347\u001b[0m \u001b[38;5;28;01mfor\u001b[39;00m stream_name \u001b[38;5;129;01min\u001b[39;00m \u001b[38;5;28mself\u001b[39m\u001b[38;5;241m.\u001b[39m_output_stream_type_info\u001b[38;5;241m.\u001b[39mkeys():\n\u001b[0;32m    348\u001b[0m   \u001b[38;5;28;01mif\u001b[39;00m stream_name \u001b[38;5;129;01min\u001b[39;00m \u001b[38;5;28mself\u001b[39m\u001b[38;5;241m.\u001b[39m_graph_outputs:\n\u001b[0;32m    349\u001b[0m     \u001b[38;5;28msetattr\u001b[39m(\n\u001b[0;32m    350\u001b[0m         solution_outputs, stream_name,\n\u001b[1;32m--> 351\u001b[0m         \u001b[38;5;28mself\u001b[39m\u001b[38;5;241m.\u001b[39m_get_packet_content(\u001b[38;5;28mself\u001b[39m\u001b[38;5;241m.\u001b[39m_output_stream_type_info[stream_name],\n\u001b[0;32m    352\u001b[0m                                  \u001b[38;5;28mself\u001b[39m\u001b[38;5;241m.\u001b[39m_graph_outputs[stream_name]))\n\u001b[0;32m    353\u001b[0m   \u001b[38;5;28;01melse\u001b[39;00m:\n\u001b[0;32m    354\u001b[0m     \u001b[38;5;28msetattr\u001b[39m(solution_outputs, stream_name, \u001b[38;5;28;01mNone\u001b[39;00m)\n",
      "File \u001b[1;32m~\\anaconda3\\envs\\opencv-env\\Lib\\site-packages\\mediapipe\\python\\solution_base.py:595\u001b[0m, in \u001b[0;36mSolutionBase._get_packet_content\u001b[1;34m(self, packet_data_type, output_packet)\u001b[0m\n\u001b[0;32m    592\u001b[0m   \u001b[38;5;28;01mreturn\u001b[39;00m \u001b[38;5;28mgetattr\u001b[39m(packet_getter, \u001b[38;5;124m'\u001b[39m\u001b[38;5;124mget_\u001b[39m\u001b[38;5;124m'\u001b[39m \u001b[38;5;241m+\u001b[39m\n\u001b[0;32m    593\u001b[0m                  packet_data_type\u001b[38;5;241m.\u001b[39mvalue)(output_packet)\u001b[38;5;241m.\u001b[39mnumpy_view()\n\u001b[0;32m    594\u001b[0m \u001b[38;5;28;01melse\u001b[39;00m:\n\u001b[1;32m--> 595\u001b[0m   \u001b[38;5;28;01mreturn\u001b[39;00m \u001b[38;5;28mgetattr\u001b[39m(packet_getter, \u001b[38;5;124m'\u001b[39m\u001b[38;5;124mget_\u001b[39m\u001b[38;5;124m'\u001b[39m \u001b[38;5;241m+\u001b[39m packet_data_type\u001b[38;5;241m.\u001b[39mvalue)(\n\u001b[0;32m    596\u001b[0m       output_packet)\n",
      "File \u001b[1;32m~\\anaconda3\\envs\\opencv-env\\Lib\\site-packages\\mediapipe\\python\\packet_getter.py:70\u001b[0m, in \u001b[0;36mget_proto\u001b[1;34m(packet)\u001b[0m\n\u001b[0;32m     66\u001b[0m \u001b[38;5;28;01mexcept\u001b[39;00m \u001b[38;5;167;01mKeyError\u001b[39;00m:\n\u001b[0;32m     67\u001b[0m   \u001b[38;5;28;01mraise\u001b[39;00m \u001b[38;5;167;01mTypeError\u001b[39;00m(\u001b[38;5;124m'\u001b[39m\u001b[38;5;124mCan not find message descriptor by type name: \u001b[39m\u001b[38;5;132;01m%s\u001b[39;00m\u001b[38;5;124m'\u001b[39m \u001b[38;5;241m%\u001b[39m\n\u001b[0;32m     68\u001b[0m                   proto_type_name)\n\u001b[1;32m---> 70\u001b[0m message_class \u001b[38;5;241m=\u001b[39m symbol_database\u001b[38;5;241m.\u001b[39mDefault()\u001b[38;5;241m.\u001b[39mGetPrototype(descriptor)\n\u001b[0;32m     71\u001b[0m \u001b[38;5;66;03m# pylint:disable=protected-access\u001b[39;00m\n\u001b[0;32m     72\u001b[0m serialized_proto \u001b[38;5;241m=\u001b[39m _packet_getter\u001b[38;5;241m.\u001b[39m_get_serialized_proto(packet)\n",
      "\u001b[1;31mAttributeError\u001b[0m: 'SymbolDatabase' object has no attribute 'GetPrototype'"
     ]
    }
   ],
   "source": [
    "def main():\n",
    "    print(\"Choose data capture method:\")\n",
    "    print(\"Press 'p' for Primary Data Capture (camera)\")\n",
    "    print(\"Press 's' for Secondary Data Capture (YouTube video)\")\n",
    "\n",
    "    cv2.namedWindow(\"Choose Data Capture Method\", cv2.WINDOW_NORMAL)\n",
    "    cv2.imshow(\"Choose Data Capture Method\", np.zeros((100, 200, 3), dtype=np.uint8))\n",
    "\n",
    "    while True:\n",
    "        key = cv2.waitKey(1) & 0xFF\n",
    "        if key == ord('p'):\n",
    "            primary_data_capture()\n",
    "            break\n",
    "        elif key == ord('s'):\n",
    "            video_path = input(\"Enter video path: \")\n",
    "            secondary_data_capture(video_path)\n",
    "            break\n",
    "\n",
    "    cv2.destroyAllWindows()\n",
    "\n",
    "if __name__ == \"__main__\":\n",
    "    main()"
   ]
  },
  {
   "cell_type": "code",
   "execution_count": null,
   "id": "4397a94e-781b-4439-a817-5e531176e477",
   "metadata": {},
   "outputs": [],
   "source": []
  }
 ],
 "metadata": {
  "kernelspec": {
   "display_name": "Python 3 (ipykernel)",
   "language": "python",
   "name": "python3"
  },
  "language_info": {
   "codemirror_mode": {
    "name": "ipython",
    "version": 3
   },
   "file_extension": ".py",
   "mimetype": "text/x-python",
   "name": "python",
   "nbconvert_exporter": "python",
   "pygments_lexer": "ipython3",
   "version": "3.12.3"
  }
 },
 "nbformat": 4,
 "nbformat_minor": 5
}
