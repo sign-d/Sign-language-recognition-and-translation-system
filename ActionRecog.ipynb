{
 "cells": [
  {
   "cell_type": "code",
   "execution_count": 1,
   "id": "4bbe1185-a210-44a6-a735-2e72cb2e3ed3",
   "metadata": {},
   "outputs": [
    {
     "name": "stdout",
     "output_type": "stream",
     "text": [
      "opencv-env\n"
     ]
    }
   ],
   "source": [
    "import os\n",
    "print(os.environ['CONDA_DEFAULT_ENV'])\n"
   ]
  },
  {
   "cell_type": "code",
   "execution_count": 2,
   "id": "952c15c2-6632-4e1f-8a98-154eaa1c6d01",
   "metadata": {},
   "outputs": [],
   "source": [
    "#pip install numpy~=1.26.4 scikit-learn~=1.5.0 tensorflow~=2.16.1 opencv-python~=4.10.0.82 mediapipe~=0.10.14 pandas~=2.2.2 pytube~=15.0.0"
   ]
  },
  {
   "cell_type": "code",
   "execution_count": 3,
   "id": "aed87889-ef12-4531-8903-b39bcdccc363",
   "metadata": {},
   "outputs": [],
   "source": [
    "#!pip install pytube\n"
   ]
  },
  {
   "cell_type": "code",
   "execution_count": 4,
   "id": "49ae3a2a",
   "metadata": {},
   "outputs": [],
   "source": [
    "import cv2\n",
    "import numpy as np\n",
    "import os\n",
    "import matplotlib.pyplot as plt\n",
    "import mediapipe as mp\n",
    "import time\n",
    "from pytube import YouTube\n",
    "\n"
   ]
  },
  {
   "cell_type": "code",
   "execution_count": 5,
   "id": "57701a12",
   "metadata": {},
   "outputs": [],
   "source": [
    "# Extracting feature keypoints using MediaPipe holistic model\n",
    "mp_holistic = mp.solutions.holistic  # Holistic model\n",
    "mp_drawing_styles = mp.solutions.drawing_styles\n",
    "mp_drawing = mp.solutions.drawing_utils  # Drawing utilities\n"
   ]
  },
  {
   "cell_type": "code",
   "execution_count": 6,
   "id": "f442bdb2",
   "metadata": {},
   "outputs": [],
   "source": [
    "def mediapipe_detection(image, model):\n",
    "    image = cv2.cvtColor(image, cv2.COLOR_BGR2RGB)  # Convert image from BGR to RGB\n",
    "    image.flags.writeable = False  # Set the 'writable' flag to False to improve performance\n",
    "    results = model.process(image)  # Make predictions\n",
    "    image.flags.writeable = True  # Set the 'writable' flag back to True\n",
    "    image = cv2.cvtColor(image, cv2.COLOR_RGB2BGR)  # Convert image back to BGR\n",
    "    return image, results\n",
    "\n"
   ]
  },
  {
   "cell_type": "code",
   "execution_count": 12,
   "id": "74f9aa07-8272-439d-b423-4e5a3bd819c9",
   "metadata": {},
   "outputs": [],
   "source": [
    "def draw_styled_landmarks(image, results):\n",
    "    # Define drawing specs for each landmark type\n",
    "    face_spec = mp_drawing.DrawingSpec(color=(255, 0, 0), thickness=1, circle_radius=1)  # red, thickness 1, circle radius 1\n",
    "    pose_spec = mp_drawing.DrawingSpec(color=(0, 255, 0), thickness=2, circle_radius=2)  # green, thickness 2, circle radius 2\n",
    "    hand_spec = mp_drawing.DrawingSpec(color=(0, 0, 255), thickness=2, circle_radius=2)  # blue, thickness 2, circle radius 2\n",
    "\n",
    "    # Draw styled landmarks\n",
    "    if results.face_landmarks:\n",
    "        mp_drawing.draw_landmarks(image, results.face_landmarks, mp_holistic.FACEMESH_CONTOURS, face_spec)\n",
    "    if results.pose_landmarks:\n",
    "        mp_drawing.draw_landmarks(image, results.pose_landmarks, mp_holistic.POSE_CONNECTIONS, pose_spec)\n",
    "    if results.left_hand_landmarks:\n",
    "        mp_drawing.draw_landmarks(image, results.left_hand_landmarks, mp_holistic.HAND_CONNECTIONS, hand_spec)\n",
    "    if results.right_hand_landmarks:\n",
    "        mp_drawing.draw_landmarks(image, results.right_hand_landmarks, mp_holistic.HAND_CONNECTIONS, hand_spec)\n",
    "\n",
    "   "
   ]
  },
  {
   "cell_type": "code",
   "execution_count": 13,
   "id": "0089bc2c-d62a-4cff-a800-4887a775e278",
   "metadata": {},
   "outputs": [],
   "source": [
    "# Function to capture data from a camera\n",
    "def primary_data_capture():\n",
    "    holistic = mp_holistic.Holistic(min_detection_confidence=0.5, min_tracking_confidence=0.5, enable_segmentation=True)\n",
    "    cap = cv2.VideoCapture(0)\n",
    "    window_name = \"Holistic Model Detection\"\n",
    "    cv2.namedWindow(window_name, cv2.WINDOW_NORMAL)\n",
    "\n",
    "    while cap.isOpened():\n",
    "        ret, frame = cap.read()\n",
    "        if not ret:\n",
    "            break\n",
    "\n",
    "        image = cv2.cvtColor(frame, cv2.COLOR_BGR2RGB)\n",
    "        results = holistic.process(image)\n",
    "\n",
    "        # Draw styled landmarks\n",
    "        draw_styled_landmarks(frame, results)\n",
    "\n",
    "        # Display the frame\n",
    "        cv2.imshow(window_name, frame)\n",
    "        \n",
    "        # Display the segmentation mask\n",
    "        if results.segmentation_mask is not None and results.segmentation_mask.shape[0] > 0 and results.segmentation_mask.shape[1] > 0:\n",
    "            segmentation_mask_frame = cv2.flip(results.segmentation_mask, 1)\n",
    "            cv2.imshow(\"Segmentation mask\", segmentation_mask_frame)\n",
    "        \n",
    "        key = cv2.waitKey(1) & 0xFF\n",
    "        if key == ord('q'):\n",
    "            break\n",
    "\n",
    "    cap.release()\n",
    "    cv2.destroyAllWindows()\n"
   ]
  },
  {
   "cell_type": "code",
   "execution_count": 14,
   "id": "19ea2b41-4f78-4373-a77e-2666076c8a0e",
   "metadata": {},
   "outputs": [],
   "source": [
    "# Function to capture data from a local video file\n",
    "def secondary_data_capture(video_path):\n",
    "    holistic = mp_holistic.Holistic(min_detection_confidence=0.5, min_tracking_confidence=0.5, enable_segmentation=True)\n",
    "    cap = cv2.VideoCapture(video_path)\n",
    "    \n",
    "    \n",
    "    window_name = \"Holistic Model Detection (YouTube)\"\n",
    "    cv2.namedWindow(window_name, cv2.WINDOW_NORMAL)\n",
    "\n",
    "    while cap.isOpened():\n",
    "        ret, frame = cap.read()\n",
    "        if not ret:\n",
    "            break\n",
    "\n",
    "        image = cv2.cvtColor(frame, cv2.COLOR_BGR2RGB)\n",
    "        results = holistic.process(image)\n",
    "\n",
    "        # Draw styled landmarks\n",
    "        draw_styled_landmarks(frame, results)\n",
    "\n",
    "        # Display the frame\n",
    "        cv2.imshow(window_name, frame)\n",
    "        \n",
    "        # Display the segmentation mask\n",
    "        if results.segmentation_mask is not None and results.segmentation_mask.shape[0] > 0 and results.segmentation_mask.shape[1] > 0:\n",
    "            segmentation_mask_frame = cv2.flip(results.segmentation_mask, 1)\n",
    "            cv2.imshow(\"Segmentation mask\", segmentation_mask_frame)\n",
    "        \n",
    "        key = cv2.waitKey(1) & 0xFF\n",
    "        if key == ord('q'):\n",
    "            break\n",
    "\n",
    "    cap.release()\n",
    "    cv2.destroyAllWindows()\n"
   ]
  },
  {
   "cell_type": "code",
   "execution_count": 16,
   "id": "87ba3064-9fac-4b7d-b6db-cdb185a71ed4",
   "metadata": {},
   "outputs": [
    {
     "name": "stdout",
     "output_type": "stream",
     "text": [
      "Choose data capture method:\n",
      "Press 'p' for Primary Data Capture (camera)\n",
      "Press 's' for Secondary Data Capture (YouTube video)\n"
     ]
    },
    {
     "name": "stdin",
     "output_type": "stream",
     "text": [
      "Enter video path:  D:\\1School\\project\\ksl videos\\trimmed\\KSL 1 2023 Topic 1   Alphabets (2).mp4\n"
     ]
    }
   ],
   "source": [
    "def main():\n",
    "    print(\"Choose data capture method:\")\n",
    "    print(\"Press 'p' for Primary Data Capture (camera)\")\n",
    "    print(\"Press 's' for Secondary Data Capture (YouTube video)\")\n",
    "\n",
    "    cv2.namedWindow(\"Choose Data Capture Method\", cv2.WINDOW_NORMAL)\n",
    "    cv2.imshow(\"Choose Data Capture Method\", np.zeros((100, 200, 3), dtype=np.uint8))\n",
    "    \n",
    "\n",
    "    while True:\n",
    "        key = cv2.waitKey(1) & 0xFF\n",
    "        if key == ord('p'):\n",
    "            primary_data_capture()\n",
    "            break\n",
    "        elif key == ord('s'):\n",
    "            video_path = input(\"Enter video path: \")\n",
    "            secondary_data_capture(video_path)\n",
    "            break\n",
    "\n",
    "    cv2.destroyAllWindows()\n",
    "\n",
    "if __name__ == \"__main__\":\n",
    "    main()"
   ]
  },
  {
   "cell_type": "code",
   "execution_count": null,
   "id": "4397a94e-781b-4439-a817-5e531176e477",
   "metadata": {},
   "outputs": [],
   "source": []
  }
 ],
 "metadata": {
  "kernelspec": {
   "display_name": "Python 3 (ipykernel)",
   "language": "python",
   "name": "python3"
  },
  "language_info": {
   "codemirror_mode": {
    "name": "ipython",
    "version": 3
   },
   "file_extension": ".py",
   "mimetype": "text/x-python",
   "name": "python",
   "nbconvert_exporter": "python",
   "pygments_lexer": "ipython3",
   "version": "3.12.3"
  }
 },
 "nbformat": 4,
 "nbformat_minor": 5
}
